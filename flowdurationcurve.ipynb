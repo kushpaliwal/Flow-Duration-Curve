{
 "cells": [
  {
   "cell_type": "markdown",
   "metadata": {},
   "source": [
    "## <span style=\"color:green\">Import the packages/modules required for this exercise</span>\n",
    "\n",
    "We need the following packages: hydrofunctions (hf), pandas (pd), numpy (np), pyplot (plt) from matplotlib, stats (sp) from scipy, seaborn and probscale. The paranthesis contains the commonly used short forms for these libraries."
   ]
  },
  {
   "cell_type": "markdown",
   "metadata": {},
   "source": [
    "## <span style=\"color:green\">USGS Station and Analysis Period</span>\n",
    "\n",
    "We need three inputs from the user for carrying out the analysis:\n",
    "<ol type=\"1\">\n",
    "    <span style=\"color:red\"><li> USGS station code</li></span>\n",
    "    <span style=\"color:red\"><li> Analysis start date </li></span>\n",
    "    <span style=\"color:red\"><li> Analysis end date </li></span>\n",
    "    \n",
    "<p style='text-align: justify;'><b><u> Note:</u></b> Both dates value should be entered in YYYY-MM-DD format (including the hyphen symbol). <br>\n",
    "<br>\n",
    "To check whether your code is working correcly, let us use  the USGS gage on Wabash River at Lafayette, IN (<b>03335500</b>) for a sample analysis period from <b>2017-01-01</b> to <b>2017-05-31</b>.</p>"
   ]
  },
  {
   "cell_type": "code",
   "execution_count": null,
   "metadata": {},
   "outputs": [],
   "source": [
    "## Input the required USGS Station and Analysis Period\n",
    "# WRITE A CODE TO DEFINE VARIABLES FOR STATION NUMBER,START DATE AND END DATE\n"
   ]
  },
  {
   "cell_type": "markdown",
   "metadata": {},
   "source": [
    "## <span style=\"color:green\">Obtain the data using hydrofunction from USGS NWIS</span>\n",
    "\n",
    "One of the two options below may be used to obtain the daily value \"dv\" of the streamflow\n",
    "\n",
    "#### <span style=\"color:red\">Option01</span>\n",
    "<code>data = hf.NWIS(USGS_StationCode,'dv',period='P365D') # P365D indicates past 365 days</code>\n",
    "\n",
    "#### <span style=\"color:red\">Option02</span>\n",
    "This more useful as discharges for desired period can be obtained and let us use this option in this tutorial. <br>\n",
    "<code>data = hf.NWIS(USGS_StationCode, 'dv', Start_Date,End_Date)</code>\n",
    "\n",
    "Finally, run <code>data.get_data()</code> to download the daily data from USGS."
   ]
  },
  {
   "cell_type": "code",
   "execution_count": null,
   "metadata": {},
   "outputs": [],
   "source": [
    "#WRITE THE CODE TO DOWNLOAD DAILY STREAMFLOW FROM USGS USING HYDROFUNCTION\n"
   ]
  },
  {
   "cell_type": "markdown",
   "metadata": {},
   "source": [
    "## <span style=\"color:green\">Data Checking</span>\n",
    "\n",
    "<p style='text-align: justify;'>Now, let us check the data by printing the first n rows (default: 5) using the head statement. This is helpful for quickly testing if your object has the right type of data in it.</p>\n",
    "\n",
    "<u><b>Note:</b></u>\n",
    "    \n",
    "00060 is parameter code for Discharge (cfs)<br>\n",
    "00003 is the stat code for daily mean"
   ]
  },
  {
   "cell_type": "code",
   "execution_count": null,
   "metadata": {},
   "outputs": [],
   "source": [
    "print(data.df().head())\n",
    "print(\"\\n\")"
   ]
  },
  {
   "cell_type": "markdown",
   "metadata": {},
   "source": [
    "## <span style=\"color:green\">Dataframe and Column name change</span>\n",
    "\n",
    "<p style='text-align: justify;'>We get the output from the hydrofunctions as \"class function\". By defining a new dataframe, let us store the data into pandas dataframe to do the manipulations. In the above data, we have two columns namely Discharge and Qualification Code. Let us rename the default column names and drop the qualification code column.</p>\n"
   ]
  },
  {
   "cell_type": "code",
   "execution_count": null,
   "metadata": {},
   "outputs": [],
   "source": [
    "strflow=pd.DataFrame(data.df())\n",
    "strflow.columns=('Discharge','QC')\n",
    "strflow=strflow.drop(columns='QC')"
   ]
  },
  {
   "cell_type": "markdown",
   "metadata": {},
   "source": [
    "## <span style=\"color:green\">Discharge hydrograph</span>\n",
    "\n",
    "\n",
    "Now, we will plot the discharge hydrograph for the analysis period."
   ]
  },
  {
   "cell_type": "code",
   "execution_count": null,
   "metadata": {},
   "outputs": [],
   "source": [
    "#WRITE YOUR CODE HERE TO PLOT THE DISCHARGE HYDROGRAPH\n",
    "#ALSO PROVIDE AXIS TITLES WITH UNITS\n"
   ]
  },
  {
   "cell_type": "markdown",
   "metadata": {},
   "source": [
    "## <span style=\"color:green\">Calculation of Exceedance Probability</span>\n",
    "\n",
    "<p style='text-align: justify;'>Now, we have to calculate the exceedance probability using the Weibull (1939) plotting position formula. The steps involved in the process are outlined earlier.</p> "
   ]
  },
  {
   "cell_type": "code",
   "execution_count": null,
   "metadata": {},
   "outputs": [],
   "source": [
    "## Calculation of exceedance probability\n",
    "# WRITE YOUR CODE HERE\n"
   ]
  },
  {
   "cell_type": "markdown",
   "metadata": {},
   "source": [
    "## <span style=\"color:green\">Flow Duration Curve in linear-linear scale</span>\n",
    "\n",
    "<p style='text-align: justify;'>Let us plot the flow duration curve with discharge in linear scale and exceedance probability in linear scale.</p> "
   ]
  },
  {
   "cell_type": "code",
   "execution_count": null,
   "metadata": {},
   "outputs": [],
   "source": [
    "## Flow Duration Curve\n",
    "## Discharge in linear-linear scale\n",
    "# WRITE YOUR CODE HERE\n"
   ]
  },
  {
   "cell_type": "markdown",
   "metadata": {},
   "source": [
    "## <span style=\"color:green\">Flow Duration Curve in log-linear scale</span>\n",
    "\n",
    "<p style='text-align: justify;'>Let us plot the flow duration curve in with discharge in logarithmic and exceedance probability in linear scale.</p> "
   ]
  },
  {
   "cell_type": "code",
   "execution_count": null,
   "metadata": {},
   "outputs": [],
   "source": [
    "## Flow Duration Curve\n",
    "## Discharge in log-linear scale\n",
    "## Variables (prob & flow) calculated above used for plotting\n",
    "# WRITE YOUR CODE HERE\n"
   ]
  },
  {
   "cell_type": "markdown",
   "metadata": {},
   "source": [
    "## <span style=\"color:green\">Flow Duration Curve in log-probability scale</span>\n",
    "\n",
    "<p style='text-align: justify;'>Let us change the linear scale of discharge to logarithmic scale for better visualisation at the two ends of the probability axis (i.e. extreme values) exceedance probability in probability scale (instead of linear scale).</p> "
   ]
  },
  {
   "cell_type": "code",
   "execution_count": null,
   "metadata": {},
   "outputs": [],
   "source": [
    "## Flow Duration Curve\n",
    "## Discharge in log-probability scale\n",
    "## Variables (prob & flow) calculated above used for plotting\n",
    "\n",
    "file_name4='./FDC_Log_Prob'+USGS_Station+'.png'\n",
    "fig, ax = plt.subplots(figsize=(8, 4))\n",
    "\n",
    "ax.plot(exceed_prob,flow)\n",
    "#ax.set_ylim(1e-2, 1e2)\n",
    "ax.set_yscale('log')\n",
    "ax.set_title('Flow Duration Curve for USGS Station: '+ USGS_Station +'\\n (Period:' + Start_Date + ' to ' + End_Date +')\\n[log-probability scale]' )\n",
    "## Add grid lines to both axes\n",
    "plt.grid(which = 'both')\n",
    "plt.xlabel('Exceedance Probability (%) \\n [in probability scale]')\n",
    "plt.ylabel('Discharge (cfs) \\n [in logarithmic scale]')\n",
    "ax.set_xlim(0.5, 99.5)\n",
    "ax.set_xscale('prob')\n",
    "\n",
    "seaborn.despine(fig=fig)\n",
    "plt.tight_layout()\n",
    "plt.savefig(file_name4)"
   ]
  },
  {
   "cell_type": "code",
   "execution_count": null,
   "metadata": {
    "deletable": false
   },
   "outputs": [],
   "source": []
  }
 ],
 "metadata": {
  "kernelspec": {
   "display_name": "Python 3",
   "language": "python",
   "name": "python3"
  },
  "language_info": {
   "codemirror_mode": {
    "name": "ipython",
    "version": 3
   },
   "file_extension": ".py",
   "mimetype": "text/x-python",
   "name": "python",
   "nbconvert_exporter": "python",
   "pygments_lexer": "ipython3",
   "version": "3.6.5"
  }
 },
 "nbformat": 4,
 "nbformat_minor": 2
}
